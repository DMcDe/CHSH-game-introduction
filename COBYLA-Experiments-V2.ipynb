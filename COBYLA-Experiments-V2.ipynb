{
 "cells": [
  {
   "cell_type": "markdown",
   "id": "8b304d04-5fc0-4e8d-a161-5984e356c06b",
   "metadata": {},
   "source": [
    "# Improving Brewster Paper\n",
    "\n",
    "In the original paper **General characterization of qubit-preserving impairments on two-qubit Bell nonlocality**, a technique was presented that would correct errors such as polarization misalignments of entangled qubits by optimizing a set of unitary gets for each of the qubits Alice and Bob have. A follow up paper, **Automated Bell inequality violation searches for estimating entanglement quality in fiber**, determined that the Nelder-Mead Method was deemed to be the best method for optimization, though Bayesian Optimization was also quoted as being a close second. \n",
    "\n",
    "Previous work on this repo has simulated CHSH games on a quantum network using SeQuEnCe, with more recent additions implementing polarization misalignment and the proposed corrective technique by the above papers. However, we believe that we can improve this process further by utilizing more suitable optimization techniques. The below experiment uses COnstrained Optimization BY Linear Approximation, or COBYLA, to better approximate better alphas in a noisy quantum environment.  "
   ]
  },
  {
   "cell_type": "code",
   "execution_count": 1,
   "id": "c8647ec0-c131-4ad1-98ee-5d75caaed76d",
   "metadata": {},
   "outputs": [],
   "source": [
    "import network_module\n",
    "from scipy.optimize import minimize\n",
    "import numpy as np"
   ]
  },
  {
   "cell_type": "code",
   "execution_count": 2,
   "id": "6e5998df-630b-4033-beee-837f52e0bf43",
   "metadata": {},
   "outputs": [],
   "source": [
    "theta1 = 0.7854          \n",
    "theta2 = 0          \n",
    "theta3 = -0.3927        \n",
    "theta4 = 0.3927"
   ]
  },
  {
   "cell_type": "code",
   "execution_count": 3,
   "id": "9c353470-ddaf-48d3-9210-71dc728ee8d3",
   "metadata": {},
   "outputs": [],
   "source": [
    "from bayes_opt import BayesianOptimization\n",
    "import numpy as np\n",
    "import time\n",
    "\n",
    "def BayesOPT(deltas, time_limit=400, precision=2500):\n",
    "    iteration_s_values = []\n",
    "    time_values = []\n",
    "    winrate_best = -np.inf\n",
    "    best_S = 0\n",
    "    start_time = time.time()\n",
    "\n",
    "    # Define the CHSH evaluation function with timing and logging\n",
    "    def simulated_chsh(alpha1, alpha2, alpha3, alpha4, alpha5, alpha6):\n",
    "        nonlocal best_S,winrate_best\n",
    "\n",
    "        elapsed = time.time() - start_time\n",
    "        if elapsed > time_limit:\n",
    "            raise TimeoutError(\"Time limit exceeded\")\n",
    "\n",
    "        g = network_module.Game(deltas=deltas, fid=0.9)\n",
    "        alphas_alice = [alpha1, alpha2, alpha3]\n",
    "        alphas_bob = [alpha4, alpha5, alpha6]\n",
    "        winrate = g.start(precision, theta1, theta2, theta3, theta4, alphas_alice, alphas_bob)\n",
    "        # print(winrate)\n",
    "        S = g.referee.compute_chsh_s()\n",
    "\n",
    "        # Log best-so-far S and corresponding timestamp\n",
    "        if winrate > winrate_best:\n",
    "            winrate_best = winrate\n",
    "            best_S = S\n",
    "        iteration_s_values.append(best_S)\n",
    "        time_values.append(elapsed)\n",
    "\n",
    "        return winrate\n",
    "\n",
    "    # Define bounds\n",
    "    pbounds = {\n",
    "        'alpha1': (-np.pi, np.pi),\n",
    "        'alpha2': (-np.pi, np.pi),\n",
    "        'alpha3': (-np.pi, np.pi),\n",
    "        'alpha4': (-np.pi, np.pi),\n",
    "        'alpha5': (-np.pi, np.pi),\n",
    "        'alpha6': (-np.pi, np.pi),\n",
    "    }\n",
    "\n",
    "    # Set up optimizer\n",
    "    optimizer = BayesianOptimization(\n",
    "        f=simulated_chsh,\n",
    "        pbounds=pbounds,\n",
    "        verbose=0\n",
    "    )\n",
    "\n",
    "    try:\n",
    "        optimizer.maximize(\n",
    "            init_points=4,\n",
    "            n_iter=100000  # allow many iterations; we stop by timeout\n",
    "        )\n",
    "    except TimeoutError:\n",
    "        pass\n",
    "\n",
    "    total_time = time.time() - start_time\n",
    "    \n",
    "    return list(optimizer.max['params'].values()), total_time, iteration_s_values,time_values"
   ]
  },
  {
   "cell_type": "code",
   "execution_count": 4,
   "id": "301b4f3e-a654-4916-ba50-051a12a45d86",
   "metadata": {},
   "outputs": [],
   "source": [
    "from scipy.optimize import minimize\n",
    "import time\n",
    "import numpy as np\n",
    "\n",
    "def Nelder_Mead(deltas, time_limit=400, precision=2500):\n",
    "    start_time = time.time()\n",
    "    winrate_best = -np.inf\n",
    "    S_best = 0\n",
    "    S_curve = []\n",
    "    best_angles = None\n",
    "    time_curve = []\n",
    "\n",
    "    def objective(x):\n",
    "        nonlocal S_best,best_angles,winrate_best\n",
    "\n",
    "        elapsed = time.time() - start_time\n",
    "        if elapsed > time_limit:\n",
    "            raise TimeoutError(\"Time limit reached\")\n",
    "\n",
    "        alphas_alice = x[0:3]\n",
    "        alphas_bob = x[3:6]\n",
    "\n",
    "        g = network_module.Game(deltas=deltas, fid=0.9)\n",
    "        winrate = g.start(precision, theta1, theta2, theta3, theta4, alphas_alice, alphas_bob)\n",
    "        S = g.referee.compute_chsh_s()\n",
    "\n",
    "        # print(S_best,best_angles)\n",
    "        if winrate > winrate_best:\n",
    "            winrate_best = winrate\n",
    "            best_angles = x\n",
    "            S_best = S\n",
    "\n",
    "        S_curve.append(S_best)\n",
    "        time_curve.append(elapsed)\n",
    "\n",
    "        return -winrate  # Minimization\n",
    "\n",
    "    x0 = np.random.uniform(-np.pi, np.pi, 6)\n",
    "\n",
    "    try:\n",
    "        res = minimize(objective, x0, method='Nelder-Mead', options={'maxiter': 10000})\n",
    "    except TimeoutError:\n",
    "        pass\n",
    "\n",
    "    total_time = time.time() - start_time\n",
    "    return best_angles , total_time, S_curve, time_curve\n"
   ]
  },
  {
   "cell_type": "code",
   "execution_count": 5,
   "id": "76f9347f-ab42-4dde-996e-f481e1b13c90",
   "metadata": {},
   "outputs": [],
   "source": [
    "def COBYLA_OPT_TIME(deltas, time_limit=400, precision=2500):\n",
    "    start_time = time.time()\n",
    "    winrate_best = -np.inf\n",
    "    S_best = 0\n",
    "    S_curve = []\n",
    "    time_curve = []\n",
    "    best_angles = []\n",
    "    \n",
    "    def objective(x):\n",
    "        nonlocal S_best,best_angles,winrate_best\n",
    "        # print(\"Alphas:\",x)\n",
    "        # nonlocal S_best\n",
    "\n",
    "        elapsed = time.time() - start_time\n",
    "        if elapsed > time_limit:\n",
    "            raise TimeoutError(\"Time limit reached\")\n",
    "\n",
    "        alphas_alice = x[0:3]\n",
    "        alphas_bob = x[3:6]\n",
    "\n",
    "        g = network_module.Game(deltas=deltas, fid=0.9)\n",
    "        winrate = g.start(precision, theta1, theta2, theta3, theta4, alphas_alice, alphas_bob)\n",
    "        S = g.referee.compute_chsh_s()\n",
    "        # print(winrate)\n",
    "        if winrate > winrate_best:\n",
    "            winrate_best = winrate\n",
    "            best_angles = x\n",
    "            S_best = S\n",
    "\n",
    "        S_curve.append(S_best)\n",
    "        time_curve.append(elapsed)\n",
    "\n",
    "        return -winrate   # Minimization\n",
    "\n",
    "    # x0 = np.random.uniform(-np.pi, np.pi, 6)\n",
    "    x0 = np.zeros(6)\n",
    "    pi_val = np.pi\n",
    "    cons = []\n",
    "    for i in range(6):\n",
    "    # x[i] >= -pi  ->  x[i] + pi >= 0\n",
    "        cons.append({'type': 'ineq', 'fun': lambda x, i=i: x[i] + pi_val})\n",
    "    # x[i] <= pi   ->  pi - x[i] >= 0\n",
    "        cons.append({'type': 'ineq', 'fun': lambda x, i=i: pi_val - x[i]})\n",
    "\n",
    "    try:\n",
    "        res = minimize(objective, x0, method='COBYLA', constraints=cons,options={'maxiter': 10000})\n",
    "    except TimeoutError:\n",
    "        pass\n",
    "    total_time = time.time() - start_time\n",
    "    return best_angles, total_time, S_curve, time_curve"
   ]
  },
  {
   "cell_type": "code",
   "execution_count": 6,
   "id": "3aa653c9-33d3-4bd0-b99b-8e7938cca7f6",
   "metadata": {},
   "outputs": [
    {
     "name": "stdout",
     "output_type": "stream",
     "text": [
      "Iteration: 0\n",
      "Validation: 2.2605976996792543\n",
      "VALIDATION: 0.07435750169390862\n"
     ]
    },
    {
     "name": "stderr",
     "output_type": "stream",
     "text": [
      "capi_return is NULL\n",
      "Call-back cb_calcfc_in__cobyla__user__routines failed.\n"
     ]
    },
    {
     "name": "stdout",
     "output_type": "stream",
     "text": [
      "VALIDATION: 2.4306429201252118\n",
      "Iteration: 1\n",
      "Validation: 2.436155042569587\n",
      "VALIDATION: 2.4289421098550266\n",
      "VALIDATION: 2.427509315169749\n",
      "Iteration: 2\n",
      "Validation: 2.3070800198073256\n",
      "VALIDATION: 2.3933962395327097\n",
      "VALIDATION: 2.4200802865854207\n",
      "Iteration: 3\n",
      "Validation: 2.373001483644387\n",
      "VALIDATION: 2.4211602312662546\n",
      "VALIDATION: 2.2637582811001593\n",
      "Iteration: 4\n",
      "Validation: 2.4344925444670364\n",
      "VALIDATION: 2.3704432194289122\n",
      "VALIDATION: 2.363081617775461\n",
      "Iteration: 5\n",
      "Validation: 2.053270566831821\n",
      "VALIDATION: 2.3269330826602648\n",
      "VALIDATION: 2.4804811564363467\n",
      "Iteration: 6\n",
      "Validation: 2.4000645069439432\n",
      "VALIDATION: 0.020749990859329936\n",
      "VALIDATION: 2.357779470145591\n",
      "Iteration: 7\n",
      "Validation: 2.0168065999344877\n",
      "VALIDATION: 0.04423849794234225\n",
      "VALIDATION: 2.344912699610404\n",
      "Iteration: 8\n",
      "Validation: 2.4169886922873585\n",
      "VALIDATION: 2.3816467664851375\n",
      "VALIDATION: 2.347625787696264\n",
      "Iteration: 9\n",
      "Validation: 2.1776398495084424\n",
      "VALIDATION: 1.289641979704599\n"
     ]
    },
    {
     "name": "stderr",
     "output_type": "stream",
     "text": [
      "capi_return is NULL\n",
      "Call-back cb_calcfc_in__cobyla__user__routines failed.\n"
     ]
    },
    {
     "name": "stdout",
     "output_type": "stream",
     "text": [
      "VALIDATION: 2.4459763525089637\n",
      "Iteration: 10\n",
      "Validation: 2.3691004265633175\n",
      "VALIDATION: 2.5014600687414967\n",
      "VALIDATION: 2.381557930399178\n",
      "Iteration: 11\n",
      "Validation: 2.4049193738697023\n",
      "VALIDATION: 2.3751265036017033\n",
      "VALIDATION: 2.4007859438746895\n",
      "Iteration: 12\n",
      "Validation: 2.3060478657641292\n",
      "VALIDATION: 2.346406471112692\n",
      "VALIDATION: 2.4665968593801413\n",
      "Iteration: 13\n",
      "Validation: 2.4198060462687407\n",
      "VALIDATION: 2.363396271916524\n",
      "VALIDATION: 2.3463787522281194\n",
      "Iteration: 14\n",
      "Validation: 2.4843607704972754\n",
      "VALIDATION: 2.3794814524288035\n"
     ]
    },
    {
     "name": "stderr",
     "output_type": "stream",
     "text": [
      "capi_return is NULL\n",
      "Call-back cb_calcfc_in__cobyla__user__routines failed.\n"
     ]
    },
    {
     "name": "stdout",
     "output_type": "stream",
     "text": [
      "VALIDATION: 2.4908402738537627\n",
      "Iteration: 15\n",
      "Validation: 2.3360194513097534\n",
      "VALIDATION: 2.304085688184136\n",
      "VALIDATION: 2.3618454198837755\n",
      "Iteration: 16\n",
      "Validation: 1.9483118231372754\n",
      "VALIDATION: 0.13831810658896893\n",
      "VALIDATION: 2.2332588462656764\n",
      "Iteration: 17\n",
      "Validation: 2.430589298657341\n",
      "VALIDATION: 2.396159376224742\n"
     ]
    },
    {
     "name": "stderr",
     "output_type": "stream",
     "text": [
      "capi_return is NULL\n",
      "Call-back cb_calcfc_in__cobyla__user__routines failed.\n"
     ]
    },
    {
     "name": "stdout",
     "output_type": "stream",
     "text": [
      "VALIDATION: 2.430501755257322\n",
      "Iteration: 18\n",
      "Validation: 2.421705299430625\n",
      "VALIDATION: 2.186391813664562\n"
     ]
    },
    {
     "name": "stderr",
     "output_type": "stream",
     "text": [
      "capi_return is NULL\n",
      "Call-back cb_calcfc_in__cobyla__user__routines failed.\n"
     ]
    },
    {
     "name": "stdout",
     "output_type": "stream",
     "text": [
      "VALIDATION: 2.300831693799889\n",
      "Iteration: 19\n",
      "Validation: 2.419583555342128\n",
      "VALIDATION: 1.2452831268216729\n",
      "VALIDATION: 2.4616135518173743\n"
     ]
    }
   ],
   "source": [
    "# Experiments\n",
    "import time\n",
    "num_exp = 20\n",
    "\n",
    "# Convergence progress\n",
    "BO_conv = []\n",
    "NM_conv = []\n",
    "COB_conv = []\n",
    "\n",
    "# Time curves (per iteration)\n",
    "BO_time_curve = []\n",
    "NM_time_curve = []\n",
    "COB_time_curve = []\n",
    "\n",
    "# Validation results\n",
    "BO_res = []\n",
    "NM_res = []\n",
    "COB_res = []\n",
    "\n",
    "# Total optimization time\n",
    "BO_time = []\n",
    "NM_time = []\n",
    "COB_time = []\n",
    "\n",
    "for x in range(num_exp):\n",
    "    print(\"Iteration:\", x)\n",
    "    deltaA = np.random.uniform(-np.pi, np.pi, size=3).tolist()\n",
    "    deltaB = np.random.uniform(-np.pi, np.pi, size=3).tolist()\n",
    "    deltas = [deltaA, deltaB]\n",
    "\n",
    "    # ----- Bayesian Optimization -----\n",
    "    start_time = time.time()\n",
    "    X_high_fid, total_time, progress, time_curve = BayesOPT(deltas, time_limit=400, precision=2500)\n",
    "    end_time = time.time()\n",
    "    \n",
    "    BO_conv.append(progress)\n",
    "    BO_time_curve.append(time_curve)\n",
    "    BO_time.append(end_time - start_time)\n",
    "\n",
    "    alphas_alice = X_high_fid[0:3]\n",
    "    alphas_bob = X_high_fid[3:6]\n",
    "    g = network_module.Game(deltas=deltas, guarantee_entanglement=True, fid=0.9)\n",
    "    g.start(10000, theta1, theta2, theta3, theta4, alphas_alice, alphas_bob)\n",
    "    S_high = g.referee.compute_chsh_s()\n",
    "    print(\"Validation:\", S_high)\n",
    "    BO_res.append(S_high)\n",
    "\n",
    "    # ----- Nelder-Mead -----\n",
    "    start_time = time.time()\n",
    "    X_high_fid, total_time, progress, time_curve = Nelder_Mead(deltas, time_limit=400, precision=2500)\n",
    "    end_time = time.time()\n",
    "\n",
    "    NM_conv.append(progress)\n",
    "    NM_time_curve.append(time_curve)\n",
    "    NM_time.append(end_time - start_time)\n",
    "\n",
    "    alphas_alice = X_high_fid[0:3]\n",
    "    alphas_bob = X_high_fid[3:6]\n",
    "    g = network_module.Game(deltas=deltas, guarantee_entanglement=True, fid=0.9)\n",
    "    g.start(10000, theta1, theta2, theta3, theta4, alphas_alice, alphas_bob)\n",
    "    S_high = g.referee.compute_chsh_s()\n",
    "    print(\"VALIDATION:\",S_high)\n",
    "    NM_res.append(S_high) \n",
    "\n",
    "    # ----- COBYLA -----\n",
    "    start_time = time.time()\n",
    "    X_high_fid, total_time, progress, time_curve = COBYLA_OPT_TIME(deltas, time_limit=400, precision=2500)\n",
    "    end_time = time.time()\n",
    "\n",
    "    COB_conv.append(progress)\n",
    "    COB_time_curve.append(time_curve)\n",
    "    COB_time.append(end_time - start_time)\n",
    "\n",
    "    alphas_alice = X_high_fid[0:3]\n",
    "    alphas_bob = X_high_fid[3:6]\n",
    "    g = network_module.Game(deltas=deltas, guarantee_entanglement=True, fid=0.9)\n",
    "    result = g.start(10000, theta1, theta2, theta3, theta4, alphas_alice, alphas_bob)\n",
    "    S = g.referee.compute_chsh_s()\n",
    "    print(\"VALIDATION:\",S)\n",
    "    COB_res.append(S)\n"
   ]
  },
  {
   "cell_type": "code",
   "execution_count": 15,
   "id": "b3897f01-0d31-4636-a648-c5d268063bfd",
   "metadata": {},
   "outputs": [
    {
     "name": "stdout",
     "output_type": "stream",
     "text": [
      "Mean validation Bayesian Optimization: 2.3208270458256965\n",
      "Standard Deviation Bayesian Optimization: 0.15388615722115137\n"
     ]
    }
   ],
   "source": [
    "import statistics\n",
    "print(\"Mean validation Bayesian Optimization:\",statistics.mean(BO_res))\n",
    "print(\"Standard Deviation Bayesian Optimization:\",statistics.stdev(BO_res))"
   ]
  },
  {
   "cell_type": "code",
   "execution_count": 16,
   "id": "848ea086-85d7-4d27-b431-0fe61e76d817",
   "metadata": {},
   "outputs": [
    {
     "name": "stdout",
     "output_type": "stream",
     "text": [
      "Mean validation Nelder-Mead: 1.7993809249356894\n",
      "Standard Deviation Nelder-Mead: 0.9504549697302839\n"
     ]
    }
   ],
   "source": [
    "print(\"Mean validation Nelder-Mead:\",statistics.mean(NM_res))\n",
    "print(\"Standard Deviation Nelder-Mead:\",statistics.stdev(NM_res))"
   ]
  },
  {
   "cell_type": "code",
   "execution_count": 17,
   "id": "0b0f0e61-4f49-4f4e-97ea-506144a26c62",
   "metadata": {},
   "outputs": [
    {
     "name": "stdout",
     "output_type": "stream",
     "text": [
      "Mean validation COBYLA: 2.387802945695675\n",
      "Standard Deviation COBYLA: 0.07068166202636177\n"
     ]
    }
   ],
   "source": [
    "print(\"Mean validation COBYLA:\",statistics.mean(COB_res))\n",
    "print(\"Standard Deviation COBYLA:\",statistics.stdev(COB_res))"
   ]
  },
  {
   "cell_type": "code",
   "execution_count": 19,
   "id": "c193b032-6c96-4613-8dac-877fb03da9de",
   "metadata": {},
   "outputs": [
    {
     "name": "stdout",
     "output_type": "stream",
     "text": [
      "2.4616135518173743 0.8078\n"
     ]
    }
   ],
   "source": [
    "print(S,result)"
   ]
  },
  {
   "cell_type": "code",
   "execution_count": 20,
   "id": "8b018cdc-8948-4fa4-b035-9a16ccc9f30a",
   "metadata": {},
   "outputs": [],
   "source": [
    "def pad_with_last_value(runs):\n",
    "    max_len = max(len(run) for run in runs)\n",
    "    padded = np.array([\n",
    "        np.pad(run, (0, max_len - len(run)), mode='edge')\n",
    "        for run in runs\n",
    "    ])\n",
    "    return padded\n"
   ]
  },
  {
   "cell_type": "code",
   "execution_count": 21,
   "id": "a2a06211-2fe0-4140-9ec6-87dbc17f9506",
   "metadata": {},
   "outputs": [],
   "source": [
    "BO_time_curve_padded = pad_with_last_value(BO_time_curve)\n",
    "NM_time_curve_padded = pad_with_last_value(NM_time_curve)\n",
    "COB_time_curve_padded = pad_with_last_value(COB_time_curve)\n",
    "\n",
    "BO_conv_padded = pad_with_last_value(BO_conv)\n",
    "NM_conv_padded = pad_with_last_value(NM_conv)\n",
    "COB_conv_padded = pad_with_last_value(COB_conv)\n",
    "\n",
    "# Compute mean + std over runs\n",
    "BO_time_mean = BO_time_curve_padded.mean(axis=0)\n",
    "BO_mean = BO_conv_padded.mean(axis=0)\n",
    "BO_std  = BO_conv_padded.std(axis=0)\n",
    "\n",
    "NM_time_mean = NM_time_curve_padded.mean(axis=0)\n",
    "NM_mean = NM_conv_padded.mean(axis=0)\n",
    "NM_std  = NM_conv_padded.std(axis=0)\n",
    "\n",
    "COB_time_mean = COB_time_curve_padded.mean(axis=0)\n",
    "COB_mean = COB_conv_padded.mean(axis=0)\n",
    "COB_std  = COB_conv_padded.std(axis=0)\n"
   ]
  },
  {
   "cell_type": "code",
   "execution_count": 22,
   "id": "0321a93f-e6b0-481c-ba01-373eaed44838",
   "metadata": {},
   "outputs": [
    {
     "data": {
      "text/plain": [
       "[0.07435750169390862,\n",
       " 2.4289421098550266,\n",
       " 2.3933962395327097,\n",
       " 2.4211602312662546,\n",
       " 2.3704432194289122,\n",
       " 2.3269330826602648,\n",
       " 0.020749990859329936,\n",
       " 0.04423849794234225,\n",
       " 2.3816467664851375,\n",
       " 1.289641979704599,\n",
       " 2.5014600687414967,\n",
       " 2.3751265036017033,\n",
       " 2.346406471112692,\n",
       " 2.363396271916524,\n",
       " 2.3794814524288035,\n",
       " 2.304085688184136,\n",
       " 0.13831810658896893,\n",
       " 2.396159376224742,\n",
       " 2.186391813664562,\n",
       " 1.2452831268216729]"
      ]
     },
     "execution_count": 22,
     "metadata": {},
     "output_type": "execute_result"
    }
   ],
   "source": [
    "NM_res"
   ]
  },
  {
   "cell_type": "code",
   "execution_count": 23,
   "id": "d4f1f827-1339-443d-b8e0-e8e44a619a0b",
   "metadata": {},
   "outputs": [
    {
     "data": {
      "image/png": "[encoded data removed]",
      "text/plain": [
       "<Figure size 1000x600 with 1 Axes>"
      ]
     },
     "metadata": {},
     "output_type": "display_data"
    }
   ],
   "source": [
    "import matplotlib.pyplot as plt\n",
    "plt.figure(figsize=(10,6))\n",
    "\n",
    "plt.plot(BO_time_mean, BO_mean, label='BO mean')\n",
    "plt.fill_between(BO_time_mean, BO_mean - BO_std, BO_mean + BO_std, alpha=0.3)\n",
    "\n",
    "plt.plot(NM_time_mean, NM_mean, label='Nelder-Mead mean')\n",
    "plt.fill_between(NM_time_mean, NM_mean - NM_std, NM_mean + NM_std, alpha=0.3)\n",
    "\n",
    "plt.plot(COB_time_mean, COB_mean, label='COBYLA mean')\n",
    "plt.fill_between(COB_time_mean, COB_mean - COB_std, COB_mean + COB_std, alpha=0.3)\n",
    "\n",
    "plt.xlabel('Time (seconds)')\n",
    "plt.ylabel('Best S so far')\n",
    "plt.title('Convergence (Mean ± Std) Over Time')\n",
    "plt.legend()\n",
    "plt.grid(True)\n",
    "plt.tight_layout()\n",
    "plt.show()"
   ]
  },
  {
   "cell_type": "code",
   "execution_count": null,
   "id": "86f2b335-ba81-4839-9e16-06ffae0fb283",
   "metadata": {},
   "outputs": [],
   "source": []
  }
 ],
 "metadata": {
  "kernelspec": {
   "display_name": "Python 3 (ipykernel)",
   "language": "python",
   "name": "python3"
  },
  "language_info": {
   "codemirror_mode": {
    "name": "ipython",
    "version": 3
   },
   "file_extension": ".py",
   "mimetype": "text/x-python",
   "name": "python",
   "nbconvert_exporter": "python",
   "pygments_lexer": "ipython3",
   "version": "3.10.17"
  }
 },
 "nbformat": 4,
 "nbformat_minor": 5
}
