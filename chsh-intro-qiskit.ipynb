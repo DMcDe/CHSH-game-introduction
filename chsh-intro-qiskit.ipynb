{
 "cells": [
  {
   "cell_type": "markdown",
   "id": "f3d4777a",
   "metadata": {},
   "source": [
    "Intro to the notebook"
   ]
  },
  {
   "cell_type": "markdown",
   "id": "56747fc9",
   "metadata": {},
   "source": [
    "Intro to background concepts: qubits, gates, entanglement"
   ]
  },
  {
   "cell_type": "markdown",
   "id": "dba42151",
   "metadata": {},
   "source": [
    "Intro to the game: rules, gameplay"
   ]
  },
  {
   "cell_type": "code",
   "execution_count": 3,
   "id": "cd97b853",
   "metadata": {},
   "outputs": [],
   "source": [
    "#This code imports packages that will be used later on, allowing us to build off publicly available code\n",
    "\n",
    "#Import Qiskit, IBM's software development kit (SDK) for quantum computing\n",
    "from qiskit import *\n",
    "\n",
    "#Import helpful Python packages\n",
    "import numpy as np\n",
    "import random\n",
    "import ipywidgets as widg"
   ]
  },
  {
   "cell_type": "code",
   "execution_count": 5,
   "id": "830067ef",
   "metadata": {},
   "outputs": [
    {
     "name": "stdout",
     "output_type": "stream",
     "text": [
      "First, select your partner's strategy from the dropdown.\n"
     ]
    },
    {
     "data": {
      "application/vnd.jupyter.widget-view+json": {
       "model_id": "e36727f06446455d81b41824481d77e4",
       "version_major": 2,
       "version_minor": 0
      },
      "text/plain": [
       "Dropdown(description=\"Choose Partner's Strategy\", options=(('Play a 0 or 1 at Random', 0), ('Play the Number T…"
      ]
     },
     "metadata": {},
     "output_type": "display_data"
    },
    {
     "data": {
      "application/vnd.jupyter.widget-view+json": {
       "model_id": "a63c28d1c4654d86b6333c1a0bd7ec8a",
       "version_major": 2,
       "version_minor": 0
      },
      "text/plain": [
       "Button(description='Select Strategy', icon='check', style=ButtonStyle(), tooltip='Click to Confirm Your Choice…"
      ]
     },
     "metadata": {},
     "output_type": "display_data"
    }
   ],
   "source": [
    "#This code creates the widgets that allow you to select your partner's strategy\n",
    "\n",
    "#Create a variable to store the strategy you chose for your partner\n",
    "partner_strategy = 0\n",
    "\n",
    "#Create a dropdown menu to choose your partner's strategy\n",
    "strat_dropdown = widg.Dropdown(\n",
    "    options = [('Play a 0 or 1 at Random', 0), ('Play the Number They Received', 1), ('Always Play 0', 2), ('Always Play 1', 3)],\n",
    "    value = 0,\n",
    "    description = 'Choose Partner\\'s Strategy',\n",
    "    disabled = False\n",
    ")\n",
    "\n",
    "#Create a button to confirm your choice\n",
    "strat_confirm = widg.Button(\n",
    "    description='Select Strategy',\n",
    "    disabled=False,\n",
    "    button_style='', # 'success', 'info', 'warning', 'danger' or ''\n",
    "    tooltip='Click to Confirm Your Choice',\n",
    "    icon='check' # (FontAwesome names without the `fa-` prefix)\n",
    ")\n",
    "\n",
    "#Define what happens when you click the button\n",
    "def sc_click (button):\n",
    "    global partner_strategy \n",
    "    partner_strategy = strat_dropdown.value\n",
    "    button.button_style = 'success'\n",
    "    print(\"Your partner's strategy has been chosen. Now, play a few games!\")\n",
    "\n",
    "strat_confirm.on_click(sc_click)\n",
    "\n",
    "#Display the dropdown menu and button\n",
    "print(\"First, select your partner's strategy from the dropdown.\")\n",
    "display(strat_dropdown)\n",
    "display(strat_confirm)"
   ]
  },
  {
   "cell_type": "code",
   "execution_count": null,
   "id": "07391142",
   "metadata": {
    "scrolled": true
   },
   "outputs": [],
   "source": [
    "#This code runs the CHSH game with a classical strategy\n",
    "\n",
    "#Create a variable to store the number of games to be played\n",
    "num_games = 10\n",
    "\n",
    "#Create a variable to store the number of games won\n",
    "num_wins = 0\n",
    "\n",
    "#Create a progress bar to show how many games you've played\n",
    "response_progress = widg.IntProgress(\n",
    "    value=0,\n",
    "    min=0,\n",
    "    max=10,\n",
    "    description='Games Played:',\n",
    "    bar_style='', # 'success', 'info', 'warning', 'danger' or ''\n",
    "    style={'bar_color': 'green'},\n",
    "    orientation='horizontal'\n",
    ")\n",
    "\n",
    "display(response_progress)\n",
    "\n",
    "#Loop through the number of games to be played\n",
    "for i in range(num_games):\n",
    "    \n",
    "    #Create a variable for the number alice and bob are given, either 0 or 1\n",
    "    alice_input = random.randint(0, 1)\n",
    "    bob_input = random.randint(0, 1)\n",
    "    \n",
    "    #Create a variable for the number alice responds with\n",
    "    alice_output = 0\n",
    "    \n",
    "    #Set that variable based on the strategy the user selected\n",
    "    if (partner_strategy == 0):\n",
    "        alice_output = random.randint(0, 1)\n",
    "    elif (partner_strategy == 1):\n",
    "        alice_output = alice_input\n",
    "    elif (partner_strategy == 2):\n",
    "        alice_output = 0\n",
    "    elif (partner_strategy == 3):\n",
    "        alice_output = 1\n",
    "         \n",
    "    #Create a variable for the number you respond with, based on your input\n",
    "    bob_output = int(input(\"You received \" + str(bob_input) + \". Enter a 0 or 1 as a response.\"))\n",
    "    \n",
    "    #Ensure the user gave a valid answer\n",
    "    while (bob_output != 0 and bob_output != 1):\n",
    "        print(\"That was not a valid response.\")\n",
    "        bob_output = int(input(\"Please enter a 0 or a 1.\"))\n",
    "    \n",
    "    #Move the progress bar along to show your progress\n",
    "    response_progress.value += 1\n",
    "    \n",
    "    #Display you and your partner's responses\n",
    "    print(\"Your partner's input was \" + str(alice_input) + \" and yours was \" + str(bob_input) + \".\")\n",
    "    print(\"Your partner returned \" + str(alice_output) + \" and you returned \" + str(bob_output) + \".\")\n",
    "    \n",
    "    #Use an 'if' statement to check whether you met the win condition\n",
    "    if ((alice_output + bob_output) % 2 == alice_input * bob_input):\n",
    "        \n",
    "        #If so, increase the number of wins by one\n",
    "        num_wins += 1\n",
    "        print(\"You won! \\n\")\n",
    "    \n",
    "    else:\n",
    "        print(\"You lost. \\n\")\n",
    "\n",
    "#Display the number of games you and your partner won\n",
    "print(\"You won \" + str(num_wins) + \" out of 10 games.\")\n",
    "if (num_wins < 3):\n",
    "    print(\"Consider trying a different strategy.\")\n",
    "elif (num_wins < 5):\n",
    "    print(\"Better luck next time!\")\n",
    "elif (num_wins < 8):\n",
    "    print(\"Not too shabby!\")\n",
    "else:\n",
    "    print(\"You crushed it!\")"
   ]
  },
  {
   "cell_type": "markdown",
   "id": "c8f5df91",
   "metadata": {},
   "source": [
    "introduce the quantum strategy, tell what the partner is going to do"
   ]
  },
  {
   "cell_type": "code",
   "execution_count": 7,
   "id": "5fb8d056",
   "metadata": {},
   "outputs": [
    {
     "data": {
      "application/vnd.jupyter.widget-view+json": {
       "model_id": "5f9586cd7a1a4311a21c44b478f1ce27",
       "version_major": 2,
       "version_minor": 0
      },
      "text/plain": [
       "IntProgress(value=0, description='Games Played:', max=10, style=ProgressStyle(bar_color='green'))"
      ]
     },
     "metadata": {},
     "output_type": "display_data"
    },
    {
     "name": "stdout",
     "output_type": "stream",
     "text": [
      "You received a 0. Choose which gate to apply.\n"
     ]
    },
    {
     "data": {
      "application/vnd.jupyter.widget-view+json": {
       "model_id": "33375f7b8e9244bc8095d8792d9746b4",
       "version_major": 2,
       "version_minor": 0
      },
      "text/plain": [
       "RadioButtons(description='Choose Which Gate to Apply', layout=Layout(object_position='bottom'), options=(('App…"
      ]
     },
     "metadata": {},
     "output_type": "display_data"
    },
    {
     "name": "stdout",
     "output_type": "stream",
     "text": [
      "Press enter once you have made your choice0\n",
      "\n",
      "Your partner's input was 0 and yours was 0.\n",
      "Your partner returned 1 and you returned 1.\n",
      "You won! \n",
      " \n",
      "\n",
      "You received a 0. Choose which gate to apply.\n"
     ]
    },
    {
     "data": {
      "application/vnd.jupyter.widget-view+json": {
       "model_id": "a514efcb40544720ac4d358812bc7faf",
       "version_major": 2,
       "version_minor": 0
      },
      "text/plain": [
       "RadioButtons(description='Choose Which Gate to Apply', layout=Layout(object_position='bottom'), options=(('App…"
      ]
     },
     "metadata": {},
     "output_type": "display_data"
    },
    {
     "name": "stdout",
     "output_type": "stream",
     "text": [
      "Press enter once you have made your choice\n",
      "\n",
      "Your partner's input was 0 and yours was 0.\n",
      "Your partner returned 0 and you returned 0.\n",
      "You won! \n",
      " \n",
      "\n",
      "You received a 0. Choose which gate to apply.\n"
     ]
    },
    {
     "data": {
      "application/vnd.jupyter.widget-view+json": {
       "model_id": "8077286719cb4fd5bff6b505173e8b8e",
       "version_major": 2,
       "version_minor": 0
      },
      "text/plain": [
       "RadioButtons(description='Choose Which Gate to Apply', layout=Layout(object_position='bottom'), options=(('App…"
      ]
     },
     "metadata": {},
     "output_type": "display_data"
    },
    {
     "name": "stdout",
     "output_type": "stream",
     "text": [
      "Press enter once you have made your choice\n",
      "\n",
      "Your partner's input was 0 and yours was 0.\n",
      "Your partner returned 0 and you returned 0.\n",
      "You won! \n",
      " \n",
      "\n",
      "You received a 0. Choose which gate to apply.\n"
     ]
    },
    {
     "data": {
      "application/vnd.jupyter.widget-view+json": {
       "model_id": "25a2c0c7dc0a41ffafd45f54fc9577e5",
       "version_major": 2,
       "version_minor": 0
      },
      "text/plain": [
       "RadioButtons(description='Choose Which Gate to Apply', layout=Layout(object_position='bottom'), options=(('App…"
      ]
     },
     "metadata": {},
     "output_type": "display_data"
    },
    {
     "name": "stdout",
     "output_type": "stream",
     "text": [
      "Press enter once you have made your choice\n",
      "\n",
      "Your partner's input was 1 and yours was 0.\n",
      "Your partner returned 0 and you returned 0.\n",
      "You won! \n",
      " \n",
      "\n",
      "You received a 0. Choose which gate to apply.\n"
     ]
    },
    {
     "data": {
      "application/vnd.jupyter.widget-view+json": {
       "model_id": "8722f51acef043f692f5f8ca26a8652e",
       "version_major": 2,
       "version_minor": 0
      },
      "text/plain": [
       "RadioButtons(description='Choose Which Gate to Apply', layout=Layout(object_position='bottom'), options=(('App…"
      ]
     },
     "metadata": {},
     "output_type": "display_data"
    },
    {
     "name": "stdout",
     "output_type": "stream",
     "text": [
      "Press enter once you have made your choice\n",
      "\n",
      "Your partner's input was 1 and yours was 0.\n",
      "Your partner returned 0 and you returned 1.\n",
      "You lost. \n",
      " \n",
      "\n",
      "You received a 0. Choose which gate to apply.\n"
     ]
    },
    {
     "data": {
      "application/vnd.jupyter.widget-view+json": {
       "model_id": "5cf6f93eaf9b4690b269ea90e5845cfc",
       "version_major": 2,
       "version_minor": 0
      },
      "text/plain": [
       "RadioButtons(description='Choose Which Gate to Apply', layout=Layout(object_position='bottom'), options=(('App…"
      ]
     },
     "metadata": {},
     "output_type": "display_data"
    },
    {
     "name": "stdout",
     "output_type": "stream",
     "text": [
      "Press enter once you have made your choice\n",
      "\n",
      "Your partner's input was 1 and yours was 0.\n",
      "Your partner returned 1 and you returned 1.\n",
      "You won! \n",
      " \n",
      "\n",
      "You received a 0. Choose which gate to apply.\n"
     ]
    },
    {
     "data": {
      "application/vnd.jupyter.widget-view+json": {
       "model_id": "7c1481fb630546dea7b09edbcb3bb5fd",
       "version_major": 2,
       "version_minor": 0
      },
      "text/plain": [
       "RadioButtons(description='Choose Which Gate to Apply', layout=Layout(object_position='bottom'), options=(('App…"
      ]
     },
     "metadata": {},
     "output_type": "display_data"
    },
    {
     "name": "stdout",
     "output_type": "stream",
     "text": [
      "Press enter once you have made your choice\n",
      "\n",
      "Your partner's input was 1 and yours was 0.\n",
      "Your partner returned 0 and you returned 0.\n",
      "You won! \n",
      " \n",
      "\n",
      "You received a 0. Choose which gate to apply.\n"
     ]
    },
    {
     "data": {
      "application/vnd.jupyter.widget-view+json": {
       "model_id": "4f244fc7cd9c46cd814a19716651c321",
       "version_major": 2,
       "version_minor": 0
      },
      "text/plain": [
       "RadioButtons(description='Choose Which Gate to Apply', layout=Layout(object_position='bottom'), options=(('App…"
      ]
     },
     "metadata": {},
     "output_type": "display_data"
    },
    {
     "ename": "KeyboardInterrupt",
     "evalue": "Interrupted by user",
     "output_type": "error",
     "traceback": [
      "\u001b[1;31m---------------------------------------------------------------------------\u001b[0m",
      "\u001b[1;31mKeyboardInterrupt\u001b[0m                         Traceback (most recent call last)",
      "Cell \u001b[1;32mIn[7], line 80\u001b[0m\n\u001b[0;32m     76\u001b[0m gate_button\u001b[38;5;241m.\u001b[39mlayout\u001b[38;5;241m.\u001b[39mobject_position \u001b[38;5;241m=\u001b[39m \u001b[38;5;124m\"\u001b[39m\u001b[38;5;124mbottom\u001b[39m\u001b[38;5;124m\"\u001b[39m\n\u001b[0;32m     78\u001b[0m display(gate_button)\n\u001b[1;32m---> 80\u001b[0m \u001b[38;5;28;43minput\u001b[39;49m\u001b[43m(\u001b[49m\u001b[38;5;124;43m\"\u001b[39;49m\u001b[38;5;124;43mPress enter once you have made your choice\u001b[39;49m\u001b[38;5;124;43m\"\u001b[39;49m\u001b[43m)\u001b[49m\n\u001b[0;32m     83\u001b[0m gate_chosen \u001b[38;5;241m=\u001b[39m gate_button\u001b[38;5;241m.\u001b[39mvalue\n\u001b[0;32m     85\u001b[0m \u001b[38;5;66;03m#Apply the gate chosen by the user\u001b[39;00m\n",
      "File \u001b[1;32mc:\\path\\to\\virtual\\environment\\Lib\\site-packages\\ipykernel\\kernelbase.py:1191\u001b[0m, in \u001b[0;36mKernel.raw_input\u001b[1;34m(self, prompt)\u001b[0m\n\u001b[0;32m   1189\u001b[0m     msg \u001b[38;5;241m=\u001b[39m \u001b[38;5;124m\"\u001b[39m\u001b[38;5;124mraw_input was called, but this frontend does not support input requests.\u001b[39m\u001b[38;5;124m\"\u001b[39m\n\u001b[0;32m   1190\u001b[0m     \u001b[38;5;28;01mraise\u001b[39;00m StdinNotImplementedError(msg)\n\u001b[1;32m-> 1191\u001b[0m \u001b[38;5;28;01mreturn\u001b[39;00m \u001b[38;5;28;43mself\u001b[39;49m\u001b[38;5;241;43m.\u001b[39;49m\u001b[43m_input_request\u001b[49m\u001b[43m(\u001b[49m\n\u001b[0;32m   1192\u001b[0m \u001b[43m    \u001b[49m\u001b[38;5;28;43mstr\u001b[39;49m\u001b[43m(\u001b[49m\u001b[43mprompt\u001b[49m\u001b[43m)\u001b[49m\u001b[43m,\u001b[49m\n\u001b[0;32m   1193\u001b[0m \u001b[43m    \u001b[49m\u001b[38;5;28;43mself\u001b[39;49m\u001b[38;5;241;43m.\u001b[39;49m\u001b[43m_parent_ident\u001b[49m\u001b[43m[\u001b[49m\u001b[38;5;124;43m\"\u001b[39;49m\u001b[38;5;124;43mshell\u001b[39;49m\u001b[38;5;124;43m\"\u001b[39;49m\u001b[43m]\u001b[49m\u001b[43m,\u001b[49m\n\u001b[0;32m   1194\u001b[0m \u001b[43m    \u001b[49m\u001b[38;5;28;43mself\u001b[39;49m\u001b[38;5;241;43m.\u001b[39;49m\u001b[43mget_parent\u001b[49m\u001b[43m(\u001b[49m\u001b[38;5;124;43m\"\u001b[39;49m\u001b[38;5;124;43mshell\u001b[39;49m\u001b[38;5;124;43m\"\u001b[39;49m\u001b[43m)\u001b[49m\u001b[43m,\u001b[49m\n\u001b[0;32m   1195\u001b[0m \u001b[43m    \u001b[49m\u001b[43mpassword\u001b[49m\u001b[38;5;241;43m=\u001b[39;49m\u001b[38;5;28;43;01mFalse\u001b[39;49;00m\u001b[43m,\u001b[49m\n\u001b[0;32m   1196\u001b[0m \u001b[43m\u001b[49m\u001b[43m)\u001b[49m\n",
      "File \u001b[1;32mc:\\path\\to\\virtual\\environment\\Lib\\site-packages\\ipykernel\\kernelbase.py:1234\u001b[0m, in \u001b[0;36mKernel._input_request\u001b[1;34m(self, prompt, ident, parent, password)\u001b[0m\n\u001b[0;32m   1231\u001b[0m \u001b[38;5;28;01mexcept\u001b[39;00m \u001b[38;5;167;01mKeyboardInterrupt\u001b[39;00m:\n\u001b[0;32m   1232\u001b[0m     \u001b[38;5;66;03m# re-raise KeyboardInterrupt, to truncate traceback\u001b[39;00m\n\u001b[0;32m   1233\u001b[0m     msg \u001b[38;5;241m=\u001b[39m \u001b[38;5;124m\"\u001b[39m\u001b[38;5;124mInterrupted by user\u001b[39m\u001b[38;5;124m\"\u001b[39m\n\u001b[1;32m-> 1234\u001b[0m     \u001b[38;5;28;01mraise\u001b[39;00m \u001b[38;5;167;01mKeyboardInterrupt\u001b[39;00m(msg) \u001b[38;5;28;01mfrom\u001b[39;00m \u001b[38;5;28;01mNone\u001b[39;00m\n\u001b[0;32m   1235\u001b[0m \u001b[38;5;28;01mexcept\u001b[39;00m \u001b[38;5;167;01mException\u001b[39;00m:\n\u001b[0;32m   1236\u001b[0m     \u001b[38;5;28mself\u001b[39m\u001b[38;5;241m.\u001b[39mlog\u001b[38;5;241m.\u001b[39mwarning(\u001b[38;5;124m\"\u001b[39m\u001b[38;5;124mInvalid Message:\u001b[39m\u001b[38;5;124m\"\u001b[39m, exc_info\u001b[38;5;241m=\u001b[39m\u001b[38;5;28;01mTrue\u001b[39;00m)\n",
      "\u001b[1;31mKeyboardInterrupt\u001b[0m: Interrupted by user"
     ]
    }
   ],
   "source": [
    "#This code runs the CHSH game with a quantum strategy\n",
    "\n",
    "#Create a variable to store the number of games to be played\n",
    "num_games_q = 10\n",
    "\n",
    "#Create a variable to store the number of games won\n",
    "num_wins_q = 0\n",
    "\n",
    "#Create a progress bar to show how many games you've played\n",
    "response_progress_q = widg.IntProgress(\n",
    "    value=0,\n",
    "    min=0,\n",
    "    max=10,\n",
    "    description='Games Played:',\n",
    "    bar_style='', # 'success', 'info', 'warning', 'danger' or ''\n",
    "    style={'bar_color': 'green'},\n",
    "    orientation='horizontal'\n",
    ")\n",
    "\n",
    "display(response_progress_q)\n",
    "\n",
    "#Create a simulator via Qiskit\n",
    "backend_sim = Aer.get_backend(\"qasm_simulator\")\n",
    "\n",
    "#Loop through the number of games to be played\n",
    "for i in range(num_games_q):\n",
    "    \n",
    "    #Create a quantum register, specifying how many qubits will be used in the circuit\n",
    "    reg_q = QuantumRegister(2, name = \"q\")\n",
    "    \n",
    "    #Create a classical register, specifying how many classical bits will be used in the circuit\n",
    "    reg_c = ClassicalRegister(2, name = \"c\")\n",
    "    \n",
    "    #Create the complete circuit, composed of the two registers\n",
    "    circ = QuantumCircuit(reg_q, reg_c, name = \"circ\")\n",
    "    \n",
    "    #There are two steps in the typical process of creating an entangled state:\n",
    "    #First, create a Hadamard gate on one of the qubits\n",
    "    circ.h(reg_q[0])\n",
    "    \n",
    "    #Second, create a CNOT gate from the qubit with the H gate to the other\n",
    "    circ.cx(reg_q[0], reg_q[1])\n",
    "    \n",
    "    #Create a variable for the number alice and bob are given, either 0 or 1\n",
    "    alice_input = random.randint(0, 1)\n",
    "    bob_input = random.randint(0, 1)\n",
    "    \n",
    "    #Your partner creates a gate based on the predetermined strategy\n",
    "    if (alice_input == 0):\n",
    "        \n",
    "        #Does nothing and goes straight to measurement if given 0\n",
    "        pass\n",
    "    else:\n",
    "        #Creates a hadamard gate on the first quantum register if given 1\n",
    "        circ.h(reg_q[0])\n",
    "    \n",
    "    #Measure your partner's qubit and store the result in a classical bit\n",
    "    circ.measure(reg_q[0], reg_c[0])\n",
    "    \n",
    "    #Create variables to store the angles the user may use\n",
    "    angle_0 = np.pi/8\n",
    "    angle_1 = -np.pi/8\n",
    "    \n",
    "    \n",
    "    #Prompt the user to confirm their choice\n",
    "    print(\"You received a \" + str(bob_input) + \". Choose which gate to apply.\", flush = True)\n",
    "    \n",
    "    #Create a button widget to prompt the user for which gate to apply\n",
    "    gate_button = widg.RadioButtons(\n",
    "        options=[(\"Apply the Gate for 0\", 0), (\"Apply the Gate for 1\", 1), (\"Just Measure\", 2)],\n",
    "        value = 0,\n",
    "        description = \"Choose Which Gate to Apply\",\n",
    "        disabled = False\n",
    "    )\n",
    "        \n",
    "    gate_button.layout.object_position = \"bottom\"\n",
    "    \n",
    "    display(gate_button)\n",
    "    \n",
    "    input(\"Press enter once you have made your choice\")\n",
    "    \n",
    "    \n",
    "    gate_chosen = gate_button.value\n",
    "        \n",
    "    #Apply the gate chosen by the user\n",
    "    if (gate_chosen == 0):\n",
    "        #Create the unitary gate, tuned to the angle pi/8\n",
    "        user_gate = np.array([[np.cos(angle_0), np.sin(angle_0)], \n",
    "                               [np.sin(angle_0), -np.cos(angle_0)]])\n",
    "            \n",
    "        #Apply the unitary gate to the shared qubit\n",
    "        circ.unitary(user_gate, range(1))\n",
    "            \n",
    "    elif (gate_chosen == 1):\n",
    "        #Create the unitary gate, tuned to the angle -pi/8\n",
    "        user_gate = np.array([[np.cos(angle_1), np.sin(angle_1)], \n",
    "                               [np.sin(angle_1), -np.cos(angle_1)]])\n",
    "            \n",
    "        #Apply the unitary gate to the shared qubit\n",
    "        circ.unitary(user_gate, range(1))\n",
    "    \n",
    "    #Measure the user's qubit and store the result in a classical bit\n",
    "    circ.measure(reg_q[1], reg_c[1])\n",
    "        \n",
    "    #Execute the simulation\n",
    "    sim = execute(circ, backend = backend_sim, shots = 1)\n",
    "        \n",
    "    #Store the results of the simulation in a variable\n",
    "    res = sim.result()\n",
    "        \n",
    "    #Get the responses from the results\n",
    "    outcome = res.get_counts(circ)\n",
    "        \n",
    "    #Set alice and bob's responses based on the outcome\n",
    "    alice_output = int(list(outcome.keys())[0][0])\n",
    "    bob_output = int(list(outcome.keys())[0][1])\n",
    "        \n",
    "    #Move the progress bar along to show your progress\n",
    "    response_progress_q.value += 1\n",
    "\n",
    "    #Display you and your partner's responses\n",
    "    print(\"\\nYour partner's input was \" + str(alice_input) + \" and yours was \" + str(bob_input) + \".\")\n",
    "    print(\"Your partner returned \" + str(alice_output) + \" and you returned \" + str(bob_output) + \".\")\n",
    "\n",
    "    #Use an 'if' statement to check whether you met the win condition\n",
    "    if ((alice_output + bob_output) % 2 == alice_input * bob_input):\n",
    "\n",
    "        #If so, increase the number of wins by one\n",
    "        num_wins_q += 1\n",
    "        print(\"You won! \\n \\n\")\n",
    "\n",
    "    else:\n",
    "        print(\"You lost. \\n \\n\")\n",
    "    \n",
    "#Display the number of games you and your partner won\n",
    "print(\"You won \" + str(num_wins_q) + \" out of 10 games.\")\n",
    "if (num_wins_q < 3):\n",
    "    print(\"Consider trying a different strategy.\")\n",
    "elif (num_wins_q < 5):\n",
    "    print(\"Better luck next time!\")\n",
    "elif (num_wins_q < 8):\n",
    "    print(\"Not too shabby!\")\n",
    "else:\n",
    "    print(\"You crushed it!\")\n",
    "    "
   ]
  },
  {
   "cell_type": "code",
   "execution_count": null,
   "id": "06eed924",
   "metadata": {},
   "outputs": [],
   "source": [
    "#This code simulates the CHSH game with the optimal classical strategy 1000 times\n",
    "\n",
    "#Create a variable to store the number of games to be played\n",
    "num_games = 1000\n",
    "\n",
    "#Create a variable to store the number of games won\n",
    "num_wins = 0\n",
    "\n",
    "#Loop through the number of games to be played\n",
    "for i in range(num_games):\n",
    "    \n",
    "    #Create a variable for the number alice and bob are given, either 0 or 1\n",
    "    alice_input = random.randint(0, 1)\n",
    "    bob_input = random.randint(0, 1)\n",
    "    \n",
    "    #Create a variable for the number alice and bob responds with. In the optimal classical strategy, this is 0\n",
    "    alice_output = 0\n",
    "    bob_output = 0\n",
    "\n",
    "    #Use an 'if' statement to check whether you met the win condition\n",
    "    if ((alice_output + bob_output) % 2 == alice_input * bob_input):\n",
    "        \n",
    "        #If so, increase the number of wins by one\n",
    "        num_wins += 1\n",
    "\n",
    "#Display the number of games alice and bob won\n",
    "print(\"With the optimal classical strategy, alice and bob won \" + str(num_wins) + \" out of \" + str(num_games) + \" games.\")\n",
    "print(\"We expect them to win 75% of the time with the optimal classical strategy. That's pretty good, but the quantum strategy can do better.\")"
   ]
  },
  {
   "cell_type": "code",
   "execution_count": null,
   "id": "ecdc12dc",
   "metadata": {},
   "outputs": [],
   "source": [
    "#This code simulates the CHSH game with the optimal quantum strategy 1000 times\n",
    "\n",
    "#Create a variable to store the number of games to be played\n",
    "num_games_q = 1000\n",
    "\n",
    "#Create a variable to store the number of games won\n",
    "num_wins_q = 0\n",
    "\n",
    "#Create a simulator via Qiskit\n",
    "backend_sim = Aer.get_backend('qasm_simulator')\n",
    "\n",
    "print(\"Simulating quantum games. This may take a moment.\")\n",
    "\n",
    "#Loop through the number of games to be played\n",
    "for i in range(num_games_q):\n",
    "    \n",
    "    #Create a quantum register, specifying how many qubits will be used in the circuit\n",
    "    reg_q = QuantumRegister(2, name = \"q\")\n",
    "    \n",
    "    #Create a classical register, specifying how many classical bits will be used in the circuit\n",
    "    reg_c = ClassicalRegister(2, name = \"c\")\n",
    "    \n",
    "    #Create the complete circuit, composed of the two registers\n",
    "    circ = QuantumCircuit(reg_q, reg_c, name = \"circ\")\n",
    "    \n",
    "    #There are two steps in the typical process of creating an entangled state:\n",
    "    #First, create a Hadamard gate on one of the qubits\n",
    "    circ.h(reg_q[0])\n",
    "    \n",
    "    #Second, create a CNOT gate from the qubit with the H gate to the other\n",
    "    circ.cx(reg_q[0], reg_q[1])\n",
    "    \n",
    "    #Create a variable for the number alice and bob are given, either 0 or 1\n",
    "    alice_input = random.randint(0, 1)\n",
    "    bob_input = random.randint(0, 1)\n",
    "    \n",
    "    #Alice creates a gate based on the predetermined strategy\n",
    "    if (alice_input == 0):\n",
    "        \n",
    "        #Does nothing and goes straight to measurement if given 0\n",
    "        pass\n",
    "    else:\n",
    "        #Creates a hadamard gate on the first quantum register if given 1\n",
    "        circ.h(reg_q[0])\n",
    "    \n",
    "    #Create variables to store the angles the user may use\n",
    "    angle_0 = np.pi/8\n",
    "    angle_1 = -np.pi/8\n",
    "\n",
    "    #Apply the optimal gate\n",
    "    if (bob_input == 0):\n",
    "        #Create the unitary gate, tuned to the angle pi/8\n",
    "        gate = np.array([[np.cos(angle_0), np.sin(angle_0)], \n",
    "                               [np.sin(angle_0), -np.cos(angle_0)]])\n",
    "            \n",
    "        #Apply the unitary gate to the shared qubit\n",
    "        circ.unitary(gate, reg_q[1])\n",
    "            \n",
    "    elif (bob_input == 1):\n",
    "        #Create the unitary gate, tuned to the angle -pi/8\n",
    "        gate = np.array([[np.cos(angle_1), np.sin(angle_1)], \n",
    "                               [np.sin(angle_1), -np.cos(angle_1)]])\n",
    "            \n",
    "        #Apply the unitary gate to the shared qubit\n",
    "        circ.unitary(gate, reg_q[1])\n",
    "    \n",
    "    #Measure the two qubits and store the results in classical bits\n",
    "    circ.measure(reg_q[0], reg_c[0])\n",
    "    circ.measure(reg_q[1], reg_c[1])\n",
    "        \n",
    "    #Execute the simulation\n",
    "    sim = execute(circ, backend = backend_sim, shots = 1)\n",
    "        \n",
    "    #Store the results of the simulation in a variable\n",
    "    res = sim.result()\n",
    "        \n",
    "    #Get the responses from the results\n",
    "    outcome = res.get_counts(circ)\n",
    "        \n",
    "    #Set alice and bob's responses based on the outcome\n",
    "    alice_output = int(list(outcome.keys())[0][0])\n",
    "    bob_output = int(list(outcome.keys())[0][1])\n",
    "        \n",
    "\n",
    "    #Use an 'if' statement to check whether you met the win condition\n",
    "    if ((alice_output + bob_output) % 2 == alice_input * bob_input):\n",
    "\n",
    "        #If so, increase the number of wins by one\n",
    "        num_wins_q += 1\n",
    "            \n",
    "#Display the number of games alice and bob won\n",
    "print(\"With the optimal quantum strategy, alice and bob won \" + str(num_wins_q) + \" out of \" + str(num_games_q) + \" games.\")\n",
    "print(\"We expect them to win 85% of the time with the optimal quantum strategy, a significant improvement from their classical strategy.\")"
   ]
  },
  {
   "cell_type": "code",
   "execution_count": 12,
   "id": "893d341f",
   "metadata": {},
   "outputs": [
    {
     "data": {
      "image/png": "[encoded data removed]",
      "text/plain": [
       "<Figure size 621.739x284.278 with 1 Axes>"
      ]
     },
     "execution_count": 12,
     "metadata": {},
     "output_type": "execute_result"
    }
   ],
   "source": [
    "#This cell draws the circuit that alice and bob used to increase their win percentage.\n",
    "\n",
    "#Define the quantum and classical registers and construct the circuit\n",
    "reg_q = QuantumRegister(2, name = \"q\")\n",
    "reg_c = ClassicalRegister(2, name = \"c\")\n",
    "circ = QuantumCircuit(reg_q, reg_c, name = \"circ\")\n",
    "    \n",
    "#Apply a Hadamard gate to the first quantum register\n",
    "circ.h(reg_q[0])\n",
    "    \n",
    "#Apply a controlled-not (CNOT) gate from the first to the second quantum register\n",
    "circ.cx(reg_q[0], reg_q[1])\n",
    "    \n",
    "#Create our custom unitary gate on the second quantum register\n",
    "angle_0 = np.pi/8\n",
    "gate = np.array([[np.cos(angle_0), np.sin(angle_0)], \n",
    "                [np.sin(angle_0), -np.cos(angle_0)]])\n",
    "circ.unitary(gate, reg_q[1])\n",
    "\n",
    "#Measure each quantum register, bringing its result to the corresponding classical register\n",
    "circ.measure(reg_q[0], reg_c[0])\n",
    "circ.measure(reg_q[1], reg_c[1])\n",
    "    \n",
    "#Use qiskit's built in \"draw\" function to produce a sketch of the circuit\n",
    "circ.draw(output = \"mpl\")"
   ]
  },
  {
   "cell_type": "code",
   "execution_count": null,
   "id": "a4d564c9",
   "metadata": {},
   "outputs": [],
   "source": []
  }
 ],
 "metadata": {
  "kernelspec": {
   "display_name": "environment",
   "language": "python",
   "name": "environment"
  },
  "language_info": {
   "codemirror_mode": {
    "name": "ipython",
    "version": 3
   },
   "file_extension": ".py",
   "mimetype": "text/x-python",
   "name": "python",
   "nbconvert_exporter": "python",
   "pygments_lexer": "ipython3",
   "version": "3.11.4"
  }
 },
 "nbformat": 4,
 "nbformat_minor": 5
}
