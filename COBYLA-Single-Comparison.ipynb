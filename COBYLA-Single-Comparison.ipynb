{
 "cells": [
  {
   "cell_type": "code",
   "execution_count": 52,
   "id": "3e8a84cd-7f4b-4c39-9eb2-1ed145dafa69",
   "metadata": {},
   "outputs": [],
   "source": [
    "import network_module\n",
    "from scipy.optimize import minimize\n",
    "import numpy as np\n"
   ]
  },
  {
   "cell_type": "code",
   "execution_count": 53,
   "id": "6e5998df-630b-4033-beee-837f52e0bf43",
   "metadata": {},
   "outputs": [],
   "source": [
    "theta1 = 0.7854              # Alice input 0 (A0)\n",
    "theta2 = 0          # Bob input 0 (B0 = π/8)\n",
    "theta3 = -0.3927        # Alice input 1 (A1 = π/4)\n",
    "theta4 = 0.3927\n",
    "\n",
    "#random deltas\n",
    "deltaA = np.random.uniform(-np.pi, np.pi, size=3).tolist()\n",
    "deltaB = np.random.uniform(-np.pi, np.pi, size=3).tolist()\n",
    "deltas = [deltaA ,deltaB]"
   ]
  },
  {
   "cell_type": "code",
   "execution_count": 54,
   "id": "9c353470-ddaf-48d3-9210-71dc728ee8d3",
   "metadata": {},
   "outputs": [],
   "source": [
    "from bayes_opt import BayesianOptimization\n",
    "import numpy as np\n",
    "\n",
    "# Simulated CHSH function: peaks near (1.57, 1.57, 1.57) = (π/2, π/2, π/2)\n",
    "def BayesOPT(deltas,fidelity=1000):\n",
    "    def simulated_chsh(alpha1, alpha2, alpha3, alpha4, alpha5, alpha6):\n",
    "    # max_games = 700\n",
    "    # games = max(800, int(max_games * fidelity))\n",
    "        g = network_module.Game(deltas = deltas,fid = 0.9)\n",
    "        alphas_alice = [alpha1,alpha2,alpha3]\n",
    "        alphas_bob = [alpha4,alpha5,alpha6]\n",
    "        result = g.start(fidelity,theta1,theta2,theta3,theta4,alphas_alice,alphas_bob)\n",
    "        return g.referee.compute_chsh_s()\n",
    "\n",
    "# Define Bayesian optimizer bounds for Alice’s PC angles (voltages mapped to angles)\n",
    "    pbounds = {\n",
    "        'alpha1': (-np.pi, np.pi),\n",
    "        'alpha2': (-np.pi, np.pi),\n",
    "        'alpha3': (-np.pi, np.pi),\n",
    "        'alpha4': (-np.pi, np.pi),\n",
    "        'alpha5': (-np.pi, np.pi),\n",
    "        'alpha6': (-np.pi, np.pi),\n",
    "    }\n",
    "\n",
    "# Create optimizer\n",
    "    optimizer = BayesianOptimization(\n",
    "        f=simulated_chsh,\n",
    "        pbounds=pbounds,\n",
    "        verbose=1\n",
    "    )\n",
    "\n",
    "    import time\n",
    "\n",
    "    start_time = time.time()\n",
    "# Run optimization manually with acquisition function\n",
    "    optimizer.maximize(\n",
    "        init_points=4,\n",
    "        n_iter=26\n",
    "        # acq=utility  # Pass UtilityFunction instance here\n",
    "    )\n",
    "\n",
    "# Show best result\n",
    "    end_time = time.time()\n",
    "    # print(\"Total runtime:\", end_time - start_time, \"seconds\")\n",
    "    # print(\"Best parameters found:\", optimizer.max)\n",
    "    return list(optimizer.max['params'].values()),end_time - start_time"
   ]
  },
  {
   "cell_type": "code",
   "execution_count": 55,
   "id": "8e70870b-8646-4d9b-ba77-a09109a2cc6f",
   "metadata": {},
   "outputs": [
    {
     "name": "stdout",
     "output_type": "stream",
     "text": [
      "|   iter    |  target   |  alpha1   |  alpha2   |  alpha3   |  alpha4   |  alpha5   |  alpha6   |\n",
      "-------------------------------------------------------------------------------------------------\n",
      "| \u001b[35m2        \u001b[39m | \u001b[35m1.2903290\u001b[39m | \u001b[35m1.2409599\u001b[39m | \u001b[35m2.4017721\u001b[39m | \u001b[35m0.5039337\u001b[39m | \u001b[35m-2.871016\u001b[39m | \u001b[35m-0.444860\u001b[39m | \u001b[35m-2.818300\u001b[39m |\n",
      "| \u001b[35m7        \u001b[39m | \u001b[35m2.2643003\u001b[39m | \u001b[35m0.6867709\u001b[39m | \u001b[35m2.1012819\u001b[39m | \u001b[35m0.2203598\u001b[39m | \u001b[35m-2.742808\u001b[39m | \u001b[35m-0.625656\u001b[39m | \u001b[35m-2.559051\u001b[39m |\n",
      "| \u001b[35m8        \u001b[39m | \u001b[35m2.3747551\u001b[39m | \u001b[35m0.8058413\u001b[39m | \u001b[35m1.8848281\u001b[39m | \u001b[35m0.0397769\u001b[39m | \u001b[35m-2.538082\u001b[39m | \u001b[35m-0.825120\u001b[39m | \u001b[35m-2.483050\u001b[39m |\n",
      "=================================================================================================\n"
     ]
    }
   ],
   "source": [
    "X_high_fid, time_high_fid = BayesOPT(deltas,fidelity=2500)\n",
    "alphas_alice = X_high_fid[0:3]\n",
    "alphas_bob = X_high_fid[3:6]\n"
   ]
  },
  {
   "cell_type": "code",
   "execution_count": 56,
   "id": "b48737cd-249b-4754-aa5a-91c47e9c6b3d",
   "metadata": {},
   "outputs": [
    {
     "name": "stdout",
     "output_type": "stream",
     "text": [
      "S HIGH FID: 2.3007197271337407\n"
     ]
    }
   ],
   "source": [
    "g = network_module.Game(deltas = deltas,guarantee_entanglement = True,fid = 0.9)\n",
    "g.start(10000,theta1,theta2,theta3,theta4,alphas_alice,alphas_bob)\n",
    "S_high = g.referee.compute_chsh_s()\n",
    "print(\"S HIGH FID:\",S_high)"
   ]
  },
  {
   "cell_type": "code",
   "execution_count": 57,
   "id": "301b4f3e-a654-4916-ba50-051a12a45d86",
   "metadata": {},
   "outputs": [
    {
     "name": "stdout",
     "output_type": "stream",
     "text": [
      "Best angles (Alice+Bob): [ 0.9808153   1.07158074  1.56365513 -0.41509132  0.04921739  0.05482492]\n",
      "Max S: 2.476154571905793\n",
      "Success: False\n"
     ]
    }
   ],
   "source": [
    "import numpy as np\n",
    "from scipy.optimize import minimize\n",
    "\n",
    "# Number of shots per evaluation\n",
    "shots = 2500\n",
    "\n",
    "def objective(x):\n",
    "    # x = [alpha1, alpha2, alpha3, beta1, beta2, beta3]\n",
    "    alphas_alice = x[0:3]\n",
    "    alphas_bob   = x[3:6]\n",
    "\n",
    "    # Start a new game for each evaluation to avoid stale state\n",
    "    g = network_module.Game(deltas = deltas,guarantee_entanglement = True,fid = 0.9)\n",
    "    g.start(shots, theta1, theta2, theta3, theta4, alphas_alice, alphas_bob)\n",
    "\n",
    "    S = g.referee.compute_chsh_s()\n",
    "\n",
    "    return -S  # minimize negative S to maximize S\n",
    "\n",
    "# Construct COBYLA inequality constraints for [-pi, pi]\n",
    "pi_val = np.pi\n",
    "cons = []\n",
    "for i in range(6):\n",
    "    # x[i] >= -pi  ->  x[i] + pi >= 0\n",
    "    cons.append({'type': 'ineq', 'fun': lambda x, i=i: x[i] + pi_val})\n",
    "    # x[i] <= pi   ->  pi - x[i] >= 0\n",
    "    cons.append({'type': 'ineq', 'fun': lambda x, i=i: pi_val - x[i]})\n",
    "\n",
    "# Initial guess (can be 0s or random within [-pi, pi])\n",
    "x0 = np.zeros(6)\n",
    "\n",
    "res = minimize(objective, x0, method='COBYLA',\n",
    "               constraints=cons,\n",
    "               options={'rhobeg': 1.0, 'tol': 1e-6, 'maxiter': 30})\n",
    "\n",
    "print(\"Best angles (Alice+Bob):\", res.x)\n",
    "print(\"Max S:\", -res.fun)\n",
    "print(\"Success:\", res.success)\n",
    "\n"
   ]
  },
  {
   "cell_type": "code",
   "execution_count": 58,
   "id": "1bc5cea4-e69f-434d-8694-98ad4a8c89c6",
   "metadata": {},
   "outputs": [],
   "source": [
    "alphas_alice = res.x[0:3]\n",
    "alphas_bob = res.x[3:]\n",
    "g = network_module.Game(deltas = deltas,guarantee_entanglement = True,fid = 0.9)\n",
    "g.start(10000, theta1, theta2, theta3, theta4, alphas_alice, alphas_bob)\n",
    "S = g.referee.compute_chsh_s()"
   ]
  },
  {
   "cell_type": "code",
   "execution_count": 59,
   "id": "43be21e7-724e-4233-9f88-42e99d6e872d",
   "metadata": {},
   "outputs": [
    {
     "data": {
      "text/plain": [
       "2.4226814308211035"
      ]
     },
     "execution_count": 59,
     "metadata": {},
     "output_type": "execute_result"
    }
   ],
   "source": [
    "S"
   ]
  }
 ],
 "metadata": {
  "kernelspec": {
   "display_name": "Python 3 (ipykernel)",
   "language": "python",
   "name": "python3"
  },
  "language_info": {
   "codemirror_mode": {
    "name": "ipython",
    "version": 3
   },
   "file_extension": ".py",
   "mimetype": "text/x-python",
   "name": "python",
   "nbconvert_exporter": "python",
   "pygments_lexer": "ipython3",
   "version": "3.10.17"
  }
 },
 "nbformat": 4,
 "nbformat_minor": 5
}
